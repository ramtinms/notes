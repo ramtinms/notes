{
    "cells": [
        {
            "cell_type": "markdown",
            "metadata": {},
            "source": "# Python Regular Expression snippets\nSmall snippet on how to use regular expression in python"
        },
        {
            "cell_type": "code",
            "execution_count": 111,
            "metadata": {
                "collapsed": true
            },
            "outputs": [],
            "source": "# Load regex package\nimport re"
        },
        {
            "cell_type": "markdown",
            "metadata": {},
            "source": "## building a RegexObject\nCompiling a pattern into RegexObjects can save running time especially inside class."
        },
        {
            "cell_type": "code",
            "execution_count": 112,
            "metadata": {},
            "outputs": [],
            "source": "pattern = r'123'\nreg1 = re.compile(pattern)\npattern = 'abc'\nreg2 = re.compile(pattern, flags=re.I|re.X)              "
        },
        {
            "cell_type": "markdown",
            "metadata": {},
            "source": "### Flags\n\nflag | meaning\n --- | --- \n re.I | (ignore case),\n re.M | (multi-line),\n re.S | (dot matches all including \\n),\n re.L | (locale dependent) (defining the meaning of white spaces \\w, \\W, \\b, \\B, \\d, \\D, \\s, \\S )\n re.A | (ASCII-only matching)\n re.U | (Unicode matching)\n re.X | (verbose)\n "
        },
        {
            "cell_type": "markdown",
            "metadata": {},
            "source": "## Search vs. Match\n**match**: find something at the beginning of the string and return a match object.\n\n**search**: find something anywhere in the string and return a match object.\n\nSo if you need to match at the beginning of the string, or to match the entire string use match. It is faster. Otherwise use search.\n\nNote **search** will only replace one result, if you need all of them use **finditer** and iterate over them.\n\nIf you don't care about the matchObject (e.g. spans) and wants the string only you can use **findall** .\n\n**fullmatch** is also available but cares both about start and end."
        },
        {
            "cell_type": "code",
            "execution_count": 113,
            "metadata": {},
            "outputs": [
                {
                    "name": "stdout",
                    "output_type": "stream",
                    "text": "reg1 match <_sre.SRE_Match object; span=(0, 3), match='123'>\nreg1 search <_sre.SRE_Match object; span=(0, 3), match='123'>\nreg2 match None\nreg2 search <_sre.SRE_Match object; span=(3, 6), match='abc'>\n----------\n<_sre.SRE_Match object; span=(0, 3), match='123'>\n<_sre.SRE_Match object; span=(6, 9), match='123'>\n<_sre.SRE_Match object; span=(12, 15), match='123'>\n----------\n['123', '123', '123']\n"
                }
            ],
            "source": "test = '123abc123abc123abc'\nprint('reg1 match', reg1.match(test))\nprint('reg1 search',reg1.search(test))\nprint('reg2 match', reg2.match(test)) # no match\nprint('reg2 search',reg2.search(test))\n\nprint('-'*10)\n\nfor match in reg1.finditer(test): # Returns all matches\n    print(match)\n\nprint('-'*10)\n\nprint(reg1.findall(test)) #  list of strings\n"
        },
        {
            "cell_type": "markdown",
            "metadata": {},
            "source": "## patterns\n```\n.   Match any char except newline\n\n^   Match start of the string (if can be start of new line re.M flag on search (not match) )\n\n$   Match end of the string\n\n\\   escape special char , inside a pattern needed for \" . ^ $ [ ] | ( )  \\  and inside a [ ] needed for ^ - ] . You can also re.escape('test.')\n\n[ ]  Enclose a set of matchable chars\n\n[^ ] negate a set of matchable chars\n\n[0-9A-Fa-f] a set ranges \n\nR|S     Match either regex R or regex S.\n\n()      Create capture group\n\n(?P<name>...) capturing group with names\n\n(?:...)  non-capturing group\n \n(?#...) comment\n\n(?!...) negative lookahead\n```\n\nQuantifiers\n\n```\n{m}     Exactly m repetitions\n\n{m,n}   From m (default 0) to n (default infinity)\n\n*       0 or more. Same as {,}\n\n+       1 or more. Same as {1,}\n\n?       0 or 1. Same as {,1}\n\n```\n \nSpecial sequences\n\nmake sure you use \"\\\\b\" or r'\\b'\n\n```\n\\A  Start of string\n\n\\b  Match empty string at word (\\w+) boundary\n\\B  Match empty string not at word boundary\n\n\\d  Digit\n\\D  Non-digit\n\n\\s  Whitespace [ \\t\\n\\r\\f\\v], see LOCALE,UNICODE\n\\S  Non-whitespace\n\n\\w  Alphanumeric: [0-9a-zA-Z_], see LOCALE\n\\W  Non-alphanumeric\n\n\\Z  End of string\n```"
        },
        {
            "cell_type": "code",
            "execution_count": 114,
            "metadata": {},
            "outputs": [
                {
                    "name": "stdout",
                    "output_type": "stream",
                    "text": "group: abc\n{'name': 'abc'}\n----------\nmatchObj.group() :  Cats are smarter than dogs\nmatchObj.group span:  (0, 26)\nmatchObj.group(1) :  Cats\nmatchObj.group(2) :  smarter\n1(23)1(23)1(23)\n1XXabcYY1XXabcYY1XXabcYY\n"
                }
            ],
            "source": "# Capturing groups\n\n## get by name\np1 = re.compile('(23)(?P<name>abc)')\nm = p1.search(test)\nprint('group:', m.group('name'))\nprint(m.groupdict()) # returns dictionary \n\nprint('-'*10)\n\n# access to numbered groups\nline = \"Cats are smarter than dogs\"\nmatchObj = re.match( r'(.*) are (.*?) .*', line, re.M|re.I)\nif matchObj:\n    \n    # the whole match not just capturing groups same as group(0)\n    print (\"matchObj.group() : \", matchObj.group())\n    print (\"matchObj.group span: \", matchObj.span())\n    # capturing group 1\n    print (\"matchObj.group(1) : \", matchObj.group(1))\n    # capturing group 2\n    print (\"matchObj.group(2) : \", matchObj.group(2))\nelse:\n    print (\"No match!!\")\n\n# in case of using .sub we can use \\1 , \\2 , ... to refrence captured groups or \\g<name>\n\nprint(p1.sub(r'(\\1)', test))\nprint(p1.sub('XX\\g<name>YY', test))\n\n\n# re.subn performs the same operation as sub(),\n# but return a tuple (new_string, number_of_subs_made).\n"
        },
        {
            "cell_type": "code",
            "execution_count": 115,
            "metadata": {},
            "outputs": [
                {
                    "data": {
                        "text/plain": "['', ' First part ', ' Second part ', ' Third part']"
                    },
                    "execution_count": 115,
                    "metadata": {},
                    "output_type": "execute_result"
                }
            ],
            "source": "# Splitting by regex\n\nmystring = '1. First part 2. Second part 3. Third part'\nre.split(r'\\d\\.', mystring)"
        },
        {
            "cell_type": "markdown",
            "metadata": {},
            "source": "## Examples\n"
        },
        {
            "cell_type": "code",
            "execution_count": 116,
            "metadata": {},
            "outputs": [
                {
                    "name": "stdout",
                    "output_type": "stream",
                    "text": "0\n1\n99\n800\n4,002\n4002\n2.2\n0.0\n"
                }
            ],
            "source": "# detect numbers\n\npattern = '[1-9](?:\\d{0,2})(?:,\\d{3})*(?:\\.\\d*[1-9])?|0?\\.\\d*[1-9]|0'\ntests = ['0', '1', '99', '800', '4,002', '4002', '2.2', '0.0']\nfor test in tests:\n    print(re.match(pattern,test).string)"
        },
        {
            "cell_type": "code",
            "execution_count": 117,
            "metadata": {},
            "outputs": [
                {
                    "name": "stdout",
                    "output_type": "stream",
                    "text": "test@hotmail.com\nuser@test.gc.ca\ntest@test.profile\n"
                }
            ],
            "source": "# detect emails\n\npattern = r\"([a-zA-Z0-9_.+-]+@[a-zA-Z0-9-.]+\\.[a-zA-Z0-9-]+)\"\ntests = ['test@hotmail.com',\n         'user@test.gc.ca',\n         'I am at test@test.profile.']\nfor test in tests:\n    print(re.search(pattern,test).group(1))"
        },
        {
            "cell_type": "code",
            "execution_count": 118,
            "metadata": {},
            "outputs": [
                {
                    "name": "stdout",
                    "output_type": "stream",
                    "text": "http://test.com\n"
                }
            ],
            "source": "# detect urls\n\npattern = '(http|ftp|https):\\/\\/([\\w\\-_]+(?:(?:\\.[\\w\\-_]+)+))([\\w\\-\\.,@?^=%&:/~\\+#]*[\\w\\-\\@?^=%&/~\\+#])?'\ntests = ['http://test.com']\n\nfor test in tests:\n    print(re.search(pattern,test).group())"
        },
        {
            "cell_type": "code",
            "execution_count": 119,
            "metadata": {},
            "outputs": [
                {
                    "name": "stdout",
                    "output_type": "stream",
                    "text": "good_example <_sre.SRE_Match object; span=(0, 12), match='my-us3r_n4m3'>\nbad_example None\n"
                }
            ],
            "source": "# validate usernames or password \n# min 3, max 16 allowed lowercase letters, numbers and _ and -\n\npattern = '^[a-z0-9_-]{3,16}$'\nvalidator = re.compile(pattern)\n\ngood_example = 'my-us3r_n4m3'\nbad_example = 'my-us3r.n4m3'\n\nprint('good_example', validator.match(good_example))\nprint('bad_example', validator.match(bad_example))"
        },
        {
            "cell_type": "code",
            "execution_count": 120,
            "metadata": {},
            "outputs": [
                {
                    "name": "stdout",
                    "output_type": "stream",
                    "text": "good_example <_sre.SRE_Match object; span=(0, 7), match='#a3c113'>\nbad_example None\n"
                }
            ],
            "source": "# validate hex value\n\npattern = '^#?([a-f0-9]{6}|[a-f0-9]{3})$'\nvalidator = re.compile(pattern)\n\ngood_example = '#a3c113'\nbad_example = '#4d82h4'\n\nprint('good_example', validator.match(good_example))\nprint('bad_example', validator.match(bad_example))\n"
        },
        {
            "cell_type": "code",
            "execution_count": 121,
            "metadata": {},
            "outputs": [
                {
                    "name": "stdout",
                    "output_type": "stream",
                    "text": "good_example <_sre.SRE_Match object; span=(0, 13), match='73.60.124.136'>\nbad_example None\n"
                }
            ],
            "source": "# validate ip\n\npattern = '^(?:(?:25[0-5]|2[0-4][0-9]|[01]?[0-9][0-9]?)\\.){3}(?:25[0-5]|2[0-4][0-9]|[01]?[0-9][0-9]?)$'\nvalidator = re.compile(pattern)\n\ngood_example = '73.60.124.136'\nbad_example = '256.60.124.136'\n\nprint('good_example', validator.match(good_example))\nprint('bad_example', validator.match(bad_example))"
        },
        {
            "cell_type": "code",
            "execution_count": 122,
            "metadata": {},
            "outputs": [
                {
                    "name": "stdout",
                    "output_type": "stream",
                    "text": "Title\n[('hotdog.link', 'Hot Dog'), ('randomlink', 'Burger'), ('randomlink', 'Chips'), ('randomlink', 'Coke')]\n"
                }
            ],
            "source": "# remove all tags\n\ntest = '<TEST name=\"Century Schoolbook\" size=\"22\">Title</TEST>'\nprint(re.sub('<[^>]*>', '', test))\n\n# detect urls \ntest2 = \"\"\"\n    <div id=foodmenu>\n        <a href=\"hotdog.link\">Hot Dog</a>\n    </div>\n    <div id=foodmenu>\n        <a href=\"randomlink\">Burger</a>\n    </div>\n    <div id=foodmenu>\n        <a href=\"randomlink\">Chips</a>\n    </div>\n    <div id=foodmenu>\n        <a href=\"randomlink\">Coke</a>\n    </div>\"\"\"\npattern = r'<a[^>]*href=\\\"([^>]*)\\\"[^>]*>(.*?)</a>'\nprint(re.findall(pattern, test2))\n"
        },
        {
            "cell_type": "code",
            "execution_count": 123,
            "metadata": {},
            "outputs": [
                {
                    "name": "stdout",
                    "output_type": "stream",
                    "text": "['Literally', 'really', 'Actually']\n"
                }
            ],
            "source": "# find words with prefix \n\ntext = 'Literally, I\u2019m really hungry now. Actually, I didn\u2019t have a lot for breakfast.'\n\nadverbs = re.findall(r'\\b\\w*ly\\b', text)\n\nprint(adverbs)"
        },
        {
            "cell_type": "code",
            "execution_count": 124,
            "metadata": {},
            "outputs": [
                {
                    "name": "stdout",
                    "output_type": "stream",
                    "text": "good_example <_sre.SRE_Match object; span=(0, 14), match='(541) 754-3010'>\ngood_example <_sre.SRE_Match object; span=(0, 12), match='541-754-3010'>\ngood_example <_sre.SRE_Match object; span=(0, 10), match='5417543010'>\nbad_example None\n"
                }
            ],
            "source": "# validate US phone numbers\n\npattern = '\\(?([2-9][0-8][0-9])\\)?[-.\u25cf ]?([2-9][0-9]{2})[-.\u25cf]?([0-9]{4})'\nvalidator = re.compile(pattern)\n\ngood_example1 = '(541) 754-3010'\ngood_example2 = '541-754-3010'\ngood_example3 = '5417543010'\n\nbad_example = '134-911-5678 '\n\nprint('good_example', validator.match(good_example1))\nprint('good_example', validator.match(good_example2))\nprint('good_example', validator.match(good_example3))\nprint('bad_example', validator.match(bad_example))\n"
        }
    ],
    "metadata": {
        "kernelspec": {
            "display_name": "Python 3",
            "language": "python",
            "name": "python3"
        },
        "language_info": {
            "codemirror_mode": {
                "name": "ipython",
                "version": 3
            },
            "file_extension": ".py",
            "mimetype": "text/x-python",
            "name": "python",
            "nbconvert_exporter": "python",
            "pygments_lexer": "ipython3",
            "version": "3.6.1"
        }
    },
    "nbformat": 4,
    "nbformat_minor": 2
}
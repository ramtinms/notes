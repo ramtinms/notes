{
 "cells": [
  {
   "cell_type": "markdown",
   "metadata": {},
   "source": [
    "# Public Key Encryption Math Problems\n",
    "\n",
    "In order to have better understanding of public encryption methods, I spend some time understanding math problems behind them. Most of these problems provides a *Trapdoor* functionality."
   ]
  },
  {
   "cell_type": "markdown",
   "metadata": {},
   "source": [
    "## Trapdoor\n",
    "Trapdoor is a function that is easy to do it in one way and really hard to do it the otherway. in other words having `A` we can easily compute `B`. But by having `B` is really hard to get back to `A`. This hardness can be due to the *cost* or *time* needed.\n",
    "\n",
    "```\n",
    "A --> B\n",
    "A <x- B\n",
    "```"
   ]
  },
  {
   "cell_type": "markdown",
   "metadata": {},
   "source": [
    "##  the integer factorization problem\n",
    "\n",
    "If we have two number $A$ and $B$ and $ C = A * B $, break C back to A and B is called integer factorization. Prime factorization is a subset of the problem with an extra constraint that factors should be prime. \n",
    "e.g.\n",
    "$$ 864  =  2 * 2 * 2 * 2 * 2 * 3 * 3 * 3 $$\n",
    "\n",
    "This become interesting and hard problem if : \n",
    "\n",
    "- $A$ and $B$ are prime numbers\n",
    "- $A$ and $B$ are very large (about two thousand bits long) \n",
    "- $A$ and $B$ are randomly chosen\n",
    "\n",
    "then $C$ is called semiprime.\n",
    "\n",
    "Some of the methods built on top of this problem are : \n",
    "- *RSA* (Rivest–Shamir–Adleman)\n",
    "- Paillier\n",
    "- Benaloh\n",
    "- Blum–Goldwasser\n",
    "- Cayley–Purser\n",
    "- Damgård–Jurik\n",
    "- GMR\n",
    "- Goldwasser–Micali\n",
    "- Rabin\n",
    "- Okamoto–Uchiyama\n",
    "- Schmidt–Samoa\n",
    "\n",
    "#### Hardness:\n",
    "\n",
    " for 1024-bit RSA, it is estimated by having 100 Machines, it will take more than 2000 years to break it.\n",
    " \n",
    " \n",
    "  **co-prime**: two integers a and b are said to be relatively prime or co-prime if the only positive integer that divides both of them is 1 ( $gcd(a,b) = 1$ )\n",
    " \n",
    " \n",
    " **Euclidean algorithm** is an efficient method for computing the gcd of two numbers\n",
    " \n",
    " **Bézout's identity**: let a and b be nonzero integers and let d be their gcd. Then there exist integers x and y such that\n",
    "\n",
    "$$ax+by=gcd(a,b)$$\n",
    "\n",
    " \n",
    " \n",
    "#### RSA simple implementation \n",
    "This code is just for learning, please do not use it for any production code.\n",
    "addopted from [here](https://gist.github.com/tylerl/1239116)"
   ]
  },
  {
   "cell_type": "markdown",
   "metadata": {},
   "source": []
  },
  {
   "cell_type": "code",
   "execution_count": 7,
   "metadata": {
    "collapsed": true
   },
   "outputs": [],
   "source": [
    "# pick prime numbers (P, Q) and E such that:\n",
    "#  1: P and Q are prime; picked at random.\n",
    "#  2: 1 < E < (P-1)*(Q-1) and E is co-prime with (P-1)*(Q-1)\n",
    "P=97  # First prime\n",
    "Q=83  # Second prime\n",
    "E=53  # usually a constant; 0x10001 is common, prime is best"
   ]
  },
  {
   "cell_type": "markdown",
   "metadata": {},
   "source": [
    "Choose 2 large prime numbers $p$, $q$ so $N = P.q$\n",
    "\n",
    "Choose $e$, $d$ st. $e.d = 1 \\mod (p-1)(q-1)$\n",
    "\n",
    "so $ ed = K.(p-1)(q-1) + 1 $\n",
    "\n",
    "pk: ($e$, $N$)\n",
    "\n",
    "sk: ($d$, $N$)\n",
    "\n",
    "$ c = Enc(m) = m^{e} \\mod N $  \n",
    "\n",
    "$ m = Dec(c) = c^{d} \\mod N $  \n",
    "\n",
    "\n",
    "$$ (m^{e})^{d} \\mod N $$\n",
    "$$ = m^{ed} \\mod N $$\n",
    "$$ = m^{k(p-1)(q-1)+1} \\mod N $$\n",
    "$$ = (m^{(p-1)(q-1)})^{k} . m \\mod N $$\n",
    "$$ = 1^{k}.m \\mod N = m $$\n",
    "\n",
    "\n",
    "This is not used in production\n"
   ]
  },
  {
   "cell_type": "markdown",
   "metadata": {},
   "source": [
    "#### Brute-force primality test"
   ]
  },
  {
   "cell_type": "code",
   "execution_count": 14,
   "metadata": {
    "collapsed": true
   },
   "outputs": [],
   "source": [
    "def isPrime(x):\n",
    "    if x%2==0 and x>2: return False     # False for all even numbers\n",
    "    i=3                                 # we don't divide by 1 or 2\n",
    "    sqrt=x**.5                          \n",
    "    while i<sqrt:\n",
    "        if x%i==0: return False\n",
    "        i+=2\n",
    "    return True\n",
    "\n",
    "# tests\n",
    "# print(isPrime(P))\n",
    "# print(isPrime(Q))\n",
    "# print(isPrime(E))\n",
    "# print(isPrime(1))\n",
    "# print(isPrime(4))"
   ]
  },
  {
   "cell_type": "code",
   "execution_count": null,
   "metadata": {
    "collapsed": true
   },
   "outputs": [],
   "source": [
    "'''\n",
    "Euclidean algorithm to detect the greatest common divisor of a and b\n",
    "'''\n",
    "def gcd(a, b):\n",
    "    while b != 0:\n",
    "        a, b = b, a % b\n",
    "    return a\n"
   ]
  },
  {
   "cell_type": "markdown",
   "metadata": {},
   "source": [
    "#### RSA settings"
   ]
  },
  {
   "cell_type": "code",
   "execution_count": 16,
   "metadata": {},
   "outputs": [
    {
     "name": "stdout",
     "output_type": "stream",
     "text": [
      "8051\n"
     ]
    }
   ],
   "source": [
    "# Product of P and Q is our modulus; the part determines as the \"key size\".\n",
    "MOD=P*Q\n",
    "\n",
    "# E is the public exponent \n",
    "\n",
    "\n",
    "print(MOD)"
   ]
  },
  {
   "cell_type": "markdown",
   "metadata": {},
   "source": [
    "## the discrete logarithm problem\n",
    "\n",
    "   -  a^b mod (prime number) p = r\n",
    "       when prime number the solution is equally likely to be any number between zero and prime number\n",
    "\n",
    "       reverse is hard (to detect b having a, p, r )\n",
    "\n",
    "       if we use a large prime number (e.g. hundreds of digits)\n",
    "           - all human computation power, thousends of years\n",
    "\n",
    "           [time needed to find it]\n",
    "\n",
    "\n",
    "\n",
    "\n",
    "    e.g.\n",
    "    Cramer–Shoup\n",
    "    DH\n",
    "    DSA\n",
    "    ECDH\n",
    "    ECDSA\n",
    "    EdDSA\n",
    "    EKE\n",
    "    ElGamal\n",
    "    MQV\n",
    "    Schnorr\n",
    "    SPEKE\n",
    "    SRP\n",
    "    STS\n",
    "\n",
    "\n"
   ]
  },
  {
   "cell_type": "markdown",
   "metadata": {},
   "source": [
    "## the elliptic-curve discrete logarithm problem\n",
    "\n",
    "\n",
    "    - ECC requires smaller key size  (256bits vs 3072bits for RSA)  (recommended : 384)\n",
    "\n",
    "    - draw eleptic curve in python\n",
    "\n",
    "        max is like mirror (key size)\n",
    "        private key = \"n\" (number of times running the method)  ??\n",
    "\n",
    "        starting point A\n",
    "        ending point Z\n",
    "\n",
    "\n",
    "\t\timport numpy as np\n",
    "\t\timport matplotlib.pyplot as plt\n",
    "\n",
    "\t\tdef main():\n",
    "\t\t    a = -1\n",
    "\t\t    b = 1\n",
    "\n",
    "\t\t    y, x = np.ogrid[-5:5:100j, -5:5:100j]\n",
    "\t\t    plt.contour(x.ravel(), y.ravel(), pow(y, 2) - pow(x, 3) - x * a - b, [0])\n",
    "\t\t    plt.grid()\n",
    "\t\t    plt.show()\n",
    "\n",
    "\t\tif __name__ == '__main__':\n",
    "\t\t    main()\n",
    "\n",
    "\n",
    " the elliptic-curve discrete logarithm problem  (ECC is here)\n",
    "\n",
    "\n",
    "\n",
    "\tp Field that the Curve is defined over\n",
    "\ta,b = Values define the Curve\n",
    "\tG = the generator point\n",
    "\tn = prime order of G\n",
    "\th = cofactor"
   ]
  },
  {
   "cell_type": "markdown",
   "metadata": {},
   "source": [
    "## Post-quantum cryptography\n",
    "Post-quantum cryptography \n",
    "https://en.wikipedia.org/wiki/Post-quantum_cryptography\n",
    "\n",
    "PQCrypto conference series since 2006\n",
    " Shor's algorithm\n",
    " "
   ]
  },
  {
   "cell_type": "code",
   "execution_count": null,
   "metadata": {
    "collapsed": true
   },
   "outputs": [],
   "source": []
  }
 ],
 "metadata": {
  "kernelspec": {
   "display_name": "Python 3",
   "language": "python",
   "name": "python3"
  },
  "language_info": {
   "codemirror_mode": {
    "name": "ipython",
    "version": 3
   },
   "file_extension": ".py",
   "mimetype": "text/x-python",
   "name": "python",
   "nbconvert_exporter": "python",
   "pygments_lexer": "ipython3",
   "version": "3.6.1"
  }
 },
 "nbformat": 4,
 "nbformat_minor": 2
}

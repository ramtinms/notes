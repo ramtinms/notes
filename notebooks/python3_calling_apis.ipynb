{
 "cells": [
  {
   "cell_type": "markdown",
   "metadata": {},
   "source": [
    "# RESTful API Handlers\n",
    "\n",
    "Nowadays, because of genesis of Microservice architectures, calling RESTful APIs are inevitable. Although this is not a very complex tasks, sometimes it has specific details to make it work efficiently on production. In this notebook I keep some of these details."
   ]
  },
  {
   "cell_type": "markdown",
   "metadata": {},
   "source": [
    "## requirments"
   ]
  },
  {
   "cell_type": "code",
   "execution_count": null,
   "metadata": {
    "collapsed": true
   },
   "outputs": [],
   "source": [
    "# importing\n",
    "import requests\n",
    "import urllib.parse\n",
    "from requests.adapters import HTTPAdapter\n",
    "from requests.packages.urllib3.util.retry import Retry\n",
    "from requests.auth import HTTPDigestAuth\n",
    "from enum import Enum\n",
    "import logging\n",
    "import time\n",
    "import json"
   ]
  },
  {
   "cell_type": "markdown",
   "metadata": {},
   "source": [
    "## API Handler\n",
    "Having an API Handler object versus calling the API on fly has some benefits. For example, you can use sessions and keep the connections to the APIs to make it way faster."
   ]
  },
  {
   "cell_type": "code",
   "execution_count": null,
   "metadata": {},
   "outputs": [],
   "source": [
    "class HttpMethod(Enum):\n",
    "    GET = 1\n",
    "    POST = 2\n",
    "    PUT = 3\n",
    "    DELETE= 4\n",
    "\n",
    "class SampleAPIHandler:\n",
    "    \n",
    "    _api_base = 'https://reqres.in/api/'\n",
    "    _version = 'v1' # example, not in use here\n",
    "    \n",
    "    def __init__(self,\n",
    "                 timeout=60,\n",
    "                 wait=2,\n",
    "                 api_token=None,\n",
    "                 username=None,\n",
    "                 password=None,\n",
    "                 auth_digest=False,\n",
    "                 logger=None):\n",
    "        self._timeout = timeout # timeout in seconds\n",
    "        self._wait = wait # wait time between each request (based on rate quota)\n",
    "        self._logger = logger or logging.getLogger(self.__class__.__name__)\n",
    "\n",
    "        # session\n",
    "        self._session = requests.Session() \n",
    "\n",
    "        # api token\n",
    "        self._api_token = api_token \n",
    "        self._session.headers.update({'X-API-TOKEN': api_token})\n",
    "\n",
    "        # authentication\n",
    "        if username and password:\n",
    "            if auth_digest:\n",
    "                self._session.auth=HTTPDigestAuth(username, password)\n",
    "            else: # basic authentication\n",
    "                self._session.auth=(username, password)\n",
    "\n",
    "    # read env vars\n",
    "    def read_environment_variable(self, key, required=False):\n",
    "        value = os.environ.get(key)\n",
    "        if value is not None:\n",
    "            return value\n",
    "        elif required:\n",
    "            raise ValueError(\"Environment variable missing: {}\".format(key))\n",
    "        elif required:\n",
    "            self._logger.warning(\"Environment variable missing: {}\".format(key))\n",
    "            return None\n",
    "    \n",
    "    @classmethod\n",
    "    def from_environment_vars():\n",
    "        api_token = read_environment_variable('Sample_API_Token', required=True)\n",
    "        timeout = read_environment_variable('Sample_API_Timeout')\n",
    "        wait = read_environment_variable('Sample_API_Wait')\n",
    "        return SampleAPIHandler(api_token=api_token,\n",
    "                                timeout=timeout,\n",
    "                                wait=wait)\n",
    "\n",
    "\n",
    "    def call_api(self, url, method=HttpMethod.GET, headers=None, params=None, data=None):\n",
    "        if not data:\n",
    "            data = {}\n",
    "        if not params:\n",
    "            params = {}\n",
    "            # e.g.\n",
    "            # params['api_token'] = self._api_token\n",
    "        if not headers:\n",
    "            headers = {}\n",
    "                \n",
    "        response = None\n",
    "        try:\n",
    "            if method == HttpMethod.GET:\n",
    "                response = self._session.get(url,\n",
    "                                             headers=headers,\n",
    "                                             params=params,\n",
    "                                             timeout=self._timeout)\n",
    "            elif method == HttpMethod.POST:\n",
    "                response = self._session.post(url,\n",
    "                                              headers=headers,\n",
    "                                              params=params,\n",
    "                                              data=data,\n",
    "                                              timeout=self._timeout)\n",
    "            # wait time\n",
    "            if self._wait:\n",
    "                time.sleep(self._wait)\n",
    "\n",
    "        except requests.exceptions.Timeout:\n",
    "            self._logger.error('timeout exception for {}'.format(url))\n",
    "\n",
    "        except requests.exceptions.TooManyRedirects:\n",
    "            self._logger.error('too many redirects for {}'.format(url))\n",
    "\n",
    "        except requests.exceptions.ConnectionError:\n",
    "            self._logger.error('connection error for {}'.format(url))\n",
    "        \n",
    "        except: # otherwise\n",
    "            raise\n",
    "        \n",
    "        return response\n",
    "    \n",
    "\n",
    "    # check response functions\n",
    "    def is_response_json(self, response):\n",
    "        if 'application/json' in response.headers.get('content-type'):\n",
    "            return True\n",
    "        return False\n",
    "\n",
    "    def is_response_redirected(self, response):\n",
    "        if response.history:\n",
    "            for h in response.history:\n",
    "                if h.status_code == 300:\n",
    "                    return True\n",
    "        return False\n",
    "    \n",
    "    def check_response_headers(self, response):\n",
    "        # example, check for quota info\n",
    "        cur_q = response.headers.get('X-Quota-Current')\n",
    "        max_q = response.headers.get('X-Quota-Allotted')\n",
    "\n",
    "    def status_is_okey(self, response):\n",
    "        #  200 OK\n",
    "        #  201 Created\n",
    "        #  202 Accepted\n",
    "        #  203 Non-Authoritative Information\n",
    "        #  204 No Content\n",
    "        #  205 Reset Content\n",
    "        #  206 Partial Content\n",
    "\n",
    "        if response.status_code in range(200, 206):\n",
    "            return True\n",
    "        return False\n",
    "\n",
    "    def status_is_redirect(self, response):\n",
    "        #  300  Multiple Choices\n",
    "        #  301  Moved Permanently\n",
    "        #  307 Temporary Redirect\n",
    "        if response.status_code in {300, 301, 307}:\n",
    "            return True\n",
    "        return False\n",
    "\n",
    "    def check_status(self, response):\n",
    "        pass\n",
    "        \n",
    "    # endpoint functions\n",
    "    def get_users(self, \n",
    "                  page=None,\n",
    "                  offset=None):\n",
    "        path = '/users'\n",
    "        url = urllib.parse.urljoin(self._api_base, path)\n",
    "        headers = {}\n",
    "        # add pagination info\n",
    "        if page:\n",
    "            headers['page'] = page\n",
    "        # add offset info\n",
    "        if offset:\n",
    "            headers['offset'] = offset\n",
    "\n",
    "        response = self.call_api(url, HttpMethod.GET, headers=headers)\n",
    "        \n",
    "        if self.is_response_json(response):\n",
    "            return response.json()\n",
    "        else:\n",
    "            return response.text\n",
    "\n",
    "    def get_user(self, user_id):\n",
    "        \n",
    "        path = '/users/{}'.format(user_id)\n",
    "        url = urllib.parse.urljoin(self._api_base, path)\n",
    "        response = self.call_api(url, HttpMethod.GET)\n",
    "        if self.is_response_json(response):\n",
    "            return response.json()\n",
    "        else:\n",
    "            return response.text\n",
    "\n",
    "    def post_user(self):\n",
    "        # send json data\n",
    "\n",
    "        path = 'users'\n",
    "        url = urllib.parse.urljoin(self._api_base, path)\n",
    "        headers = {'Content-Type': 'application/json'}\n",
    "        payload = {'some': 'data'}\n",
    "        data = json.dumps(payload)\n",
    "\n",
    "        response = self.call_api(url, HttpMethod.POST, headers=headers, data=data)\n"
   ]
  },
  {
   "cell_type": "code",
   "execution_count": null,
   "metadata": {},
   "outputs": [],
   "source": [
    "# test\n",
    "unit = SampleAPIHandler()\n",
    "unit.get_users()"
   ]
  },
  {
   "cell_type": "markdown",
   "metadata": {},
   "source": [
    "## retry\n",
    "\n",
    "You have to just substitute session with requests_retry_session."
   ]
  },
  {
   "cell_type": "code",
   "execution_count": null,
   "metadata": {
    "collapsed": true
   },
   "outputs": [],
   "source": [
    "def requests_retry_session(session=None,\n",
    "                           retries=3,\n",
    "                           backoff_factor=0.3,\n",
    "                           status_forcelist=(500, 502, 504)):\n",
    "    session = session or requests.Session()\n",
    "    retry = Retry(\n",
    "        total=retries,\n",
    "        read=retries,\n",
    "        connect=retries,\n",
    "        backoff_factor=backoff_factor,\n",
    "        status_forcelist=status_forcelist,\n",
    "    )\n",
    "    adapter = HTTPAdapter(max_retries=retry)\n",
    "    session.mount('http://', adapter)\n",
    "    session.mount('https://', adapter)\n",
    "    return session"
   ]
  },
  {
   "cell_type": "markdown",
   "metadata": {},
   "source": [
    "## binary"
   ]
  },
  {
   "cell_type": "code",
   "execution_count": null,
   "metadata": {},
   "outputs": [],
   "source": [
    "# content-encoding  gzip ?\n",
    "# Binary Response\n",
    "    r.content\n",
    "\n",
    "output_file_path = ''\n",
    "\n",
    "# important to have stream=True\n",
    "r = requests.get(url, stream=True)\n",
    "if r.status_code == 200:\n",
    "    with open(output_file_path, 'wb') as f:\n",
    "        for chunk in r.iter_content(1024):\n",
    "            f.write(chunk)\n",
    "            \n",
    "            \n",
    "# {\n",
    "#     'content-encoding': 'gzip',\n",
    "#     'transfer-encoding': 'chunked',\n",
    "#     'connection': 'close',\n",
    "#     'server': 'nginx/1.0.4',\n",
    "#     'x-runtime': '148ms',\n",
    "#     'etag': '\"e1ca502697e5c9317743dc078f67693f\"',\n",
    "#     'content-type': 'application/json'\n",
    "# }\n"
   ]
  },
  {
   "cell_type": "markdown",
   "metadata": {},
   "source": [
    "## caching "
   ]
  },
  {
   "cell_type": "code",
   "execution_count": null,
   "metadata": {},
   "outputs": [],
   "source": [
    "# Simple Key Value caching\n",
    "\n",
    "# using redis, ...\n",
    "\n",
    "\n",
    "\n",
    "# Http caching\n",
    "    # etag\n",
    "    \n",
    "    # 304 Not Modified\n",
    "    \n",
    "    "
   ]
  },
  {
   "cell_type": "markdown",
   "metadata": {},
   "source": [
    "### HTTP cache\n"
   ]
  },
  {
   "cell_type": "code",
   "execution_count": null,
   "metadata": {
    "scrolled": true
   },
   "outputs": [],
   "source": [
    "# install\n",
    "!pip install CacheControl"
   ]
  },
  {
   "cell_type": "code",
   "execution_count": 42,
   "metadata": {},
   "outputs": [],
   "source": [
    "# import\n",
    "from cachecontrol import CacheControl"
   ]
  },
  {
   "cell_type": "code",
   "execution_count": null,
   "metadata": {
    "collapsed": true
   },
   "outputs": [],
   "source": [
    "def add_cache(session, capacity=100):\n",
    "    # in-memory dictionary\n",
    "    session = session or requests.Session()\n",
    "    return CacheControl(session)\n"
   ]
  },
  {
   "cell_type": "markdown",
   "metadata": {},
   "source": [
    "### redis cache"
   ]
  },
  {
   "cell_type": "code",
   "execution_count": 43,
   "metadata": {
    "collapsed": true
   },
   "outputs": [],
   "source": [
    "import redis\n",
    "import requests\n",
    "from cachecontrol import CacheControl\n",
    "from cachecontrol.caches.redis_cache import RedisCache\n",
    "\n",
    "\n",
    "pool = redis.ConnectionPool(host='localhost', port=6379, db=0)\n",
    "r = redis.Redis(connection_pool=pool)\n",
    "sess = CacheControl(requests.Session(), RedisCache(r))\n"
   ]
  },
  {
   "cell_type": "code",
   "execution_count": null,
   "metadata": {},
   "outputs": [],
   "source": [
    "# testing\n",
    "http://httpstat.us/"
   ]
  },
  {
   "cell_type": "code",
   "execution_count": null,
   "metadata": {
    "collapsed": true
   },
   "outputs": [],
   "source": [
    "# Http 2 "
   ]
  },
  {
   "cell_type": "code",
   "execution_count": null,
   "metadata": {
    "collapsed": true
   },
   "outputs": [],
   "source": []
  }
 ],
 "metadata": {
  "kernelspec": {
   "display_name": "Python 3",
   "language": "python",
   "name": "python3"
  },
  "language_info": {
   "codemirror_mode": {
    "name": "ipython",
    "version": 3
   },
   "file_extension": ".py",
   "mimetype": "text/x-python",
   "name": "python",
   "nbconvert_exporter": "python",
   "pygments_lexer": "ipython3",
   "version": "3.6.1"
  }
 },
 "nbformat": 4,
 "nbformat_minor": 2
}

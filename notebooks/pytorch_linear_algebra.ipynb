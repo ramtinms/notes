{
 "cells": [
  {
   "cell_type": "markdown",
   "metadata": {},
   "source": [
    "# Linear Algebra using Torch\n",
    "\n",
    "Here is a list of linear algrebra functions provided by *pytorch*. The order of the concepts in this notebook is based on deep learning book (by Goodfellow et. al) chapter 2."
   ]
  },
  {
   "cell_type": "markdown",
   "metadata": {},
   "source": [
    "## Tensors\n",
    "A tensor is an array of numbers, that may have, \n",
    "- zero dimensions, and be a scalar , \n",
    "- one dimension, and be a vector \n",
    "- two dimensions, and be a matrix \n",
    "- or more dimensions."
   ]
  },
  {
   "cell_type": "markdown",
   "metadata": {},
   "source": [
    "### importing torch"
   ]
  },
  {
   "cell_type": "code",
   "execution_count": null,
   "metadata": {
    "collapsed": true,
    "scrolled": true
   },
   "outputs": [],
   "source": [
    "import torch"
   ]
  },
  {
   "cell_type": "markdown",
   "metadata": {},
   "source": [
    "### Scalars\n",
    "A scalar is a number (Integers, real numbers, rational numbers) usually denoted by italic font"
   ]
  },
  {
   "cell_type": "code",
   "execution_count": 9,
   "metadata": {},
   "outputs": [
    {
     "data": {
      "text/plain": [
       "12"
      ]
     },
     "execution_count": 9,
     "metadata": {},
     "output_type": "execute_result"
    }
   ],
   "source": [
    "x = 12\n",
    "x"
   ]
  },
  {
   "cell_type": "markdown",
   "metadata": {},
   "source": [
    "### Vectors\n",
    "A vector is a 1-D array of numbers\n",
    "$$ \\textbf{x} = \\left[\n",
    "            \\begin{array}{c}\n",
    "              x_1 \\\\\n",
    "              x_2 \\\\\n",
    "              x_3 \\\\\n",
    "              ... \\\\\n",
    "              x_n \\\\\n",
    "            \\end{array}\n",
    "        \\right] $$"
   ]
  },
  {
   "cell_type": "code",
   "execution_count": 88,
   "metadata": {
    "scrolled": true
   },
   "outputs": [
    {
     "data": {
      "text/plain": [
       "\n",
       " 6.3918e-38\n",
       " 1.4013e-45\n",
       " 6.3918e-38\n",
       " 1.4013e-45\n",
       " 7.0141e-33\n",
       "[torch.FloatTensor of size 5]"
      ]
     },
     "execution_count": 88,
     "metadata": {},
     "output_type": "execute_result"
    }
   ],
   "source": [
    "x = torch.Tensor(5)  # construct a vector lenght 5, uninitialized\n",
    "x"
   ]
  },
  {
   "cell_type": "code",
   "execution_count": 10,
   "metadata": {},
   "outputs": [
    {
     "data": {
      "text/plain": [
       "\n",
       " 1.4088\n",
       "-1.7949\n",
       "-0.3008\n",
       " 1.3035\n",
       "-1.1991\n",
       "[torch.FloatTensor of size 5]"
      ]
     },
     "execution_count": 10,
     "metadata": {},
     "output_type": "execute_result"
    }
   ],
   "source": [
    "y = torch.randn(5) # construct a vector lenght 5 with random values\n",
    "y"
   ]
  },
  {
   "cell_type": "code",
   "execution_count": 21,
   "metadata": {},
   "outputs": [
    {
     "data": {
      "text/plain": [
       "\n",
       " 1\n",
       " 2\n",
       " 3\n",
       " 4\n",
       " 5\n",
       "[torch.FloatTensor of size 5]"
      ]
     },
     "execution_count": 21,
     "metadata": {},
     "output_type": "execute_result"
    }
   ],
   "source": [
    "# make a vector from a range\n",
    "torch.range(1, 5)"
   ]
  },
  {
   "cell_type": "code",
   "execution_count": 8,
   "metadata": {},
   "outputs": [
    {
     "data": {
      "text/plain": [
       "torch.Size([5])"
      ]
     },
     "execution_count": 8,
     "metadata": {},
     "output_type": "execute_result"
    }
   ],
   "source": [
    "x.size() # get the size of a vector"
   ]
  },
  {
   "cell_type": "code",
   "execution_count": 89,
   "metadata": {},
   "outputs": [
    {
     "data": {
      "text/plain": [
       "\n",
       " 1.4088\n",
       "-1.7949\n",
       "-0.3008\n",
       " 1.3035\n",
       "-1.1991\n",
       "[torch.FloatTensor of size 5]"
      ]
     },
     "execution_count": 89,
     "metadata": {},
     "output_type": "execute_result"
    }
   ],
   "source": [
    "z = x + y # sum of two vectors (they should have same size)\n",
    "z"
   ]
  },
  {
   "cell_type": "markdown",
   "metadata": {},
   "source": [
    "#### Distance between two vectors\n",
    "Returns the p-norm of (input - other)"
   ]
  },
  {
   "cell_type": "code",
   "execution_count": 108,
   "metadata": {},
   "outputs": [
    {
     "name": "stdout",
     "output_type": "stream",
     "text": [
      "2.90408080169 2.32354512733\n"
     ]
    }
   ],
   "source": [
    "dist1 = torch.dist(x,y)\n",
    "dist2 = torch.dist(x,y,3)\n",
    "print(dist1, dist2)"
   ]
  },
  {
   "cell_type": "markdown",
   "metadata": {},
   "source": [
    "### Matrix \n",
    "A matrix is a 2-D array of numbers(Integers, real numbers, rational numbers) usually denoted by captial letters\n",
    "$$ \\textbf{A} = \\left[\n",
    "            \\begin{array}{c}\n",
    "              x_{11} & x_{12} & x_{13} & ... & x_{1n} \\\\\n",
    "              x_{21} & x_{22} & x_{23} & ... & x_{2n} \\\\\n",
    "              x_{31} & x_{32} & x_{33} & ... & x_{3n} \\\\\n",
    "              ... & ... & ... & ... & ...\\\\\n",
    "              x_{m1} & x_{m2} & x_{m3} & ... & x_{mn} \\\\\n",
    "            \\end{array}\n",
    "        \\right] $$\n"
   ]
  },
  {
   "cell_type": "code",
   "execution_count": 94,
   "metadata": {
    "scrolled": false
   },
   "outputs": [
    {
     "name": "stdout",
     "output_type": "stream",
     "text": [
      "A =  \n",
      " 6.3918e-38  1.4013e-45  6.3918e-38\n",
      " 1.4013e-45  7.0309e-33  1.4013e-45\n",
      "[torch.FloatTensor of size 2x3]\n",
      "\n",
      "B =  \n",
      " 0.6157 -0.5688 -0.1571\n",
      " 1.2626 -0.8603  1.3070\n",
      "[torch.FloatTensor of size 2x3]\n",
      "\n",
      "C =  \n",
      " 6.8000 -6.0500 -0.4500\n",
      "-2.1100 -3.3000  2.5800\n",
      " 5.6600  5.3600 -2.7000\n",
      "[torch.FloatTensor of size 3x3]\n",
      "\n",
      "D =  \n",
      " 1  2\n",
      " 3  4\n",
      " 5  6\n",
      "[torch.FloatTensor of size 3x2]\n",
      "\n"
     ]
    }
   ],
   "source": [
    "# construct a matrix with 5 rows and 3 columns \n",
    "A = torch.Tensor(2, 3)\n",
    "print('A = ',A)\n",
    "\n",
    "# construct a matrix with 2 rows and 3 columns with random values\n",
    "B = torch.randn(2, 3) \n",
    "print('B = ',B)\n",
    "\n",
    "# converting a list of lists into a squared torch matrix\n",
    "C = torch.Tensor([[6.80, -2.11,  5.66],\n",
    "                  [-6.05, -3.30,  5.36],\n",
    "                  [-0.45,  2.58, -2.70]]).t()\n",
    "print('C = ', C)\n",
    "\n",
    "# change vector to matrix\n",
    "D = torch.range(1, 6).view(3, 2)\n",
    "print('D = ', D)"
   ]
  },
  {
   "cell_type": "markdown",
   "metadata": {},
   "source": [
    "### Identity Matrix\n",
    "A 2-D tensor with ones on the diagonal and zeros elsewhere"
   ]
  },
  {
   "cell_type": "code",
   "execution_count": 93,
   "metadata": {},
   "outputs": [
    {
     "data": {
      "text/plain": [
       "\n",
       " 1  0  0\n",
       " 0  1  0\n",
       " 0  0  1\n",
       "[torch.FloatTensor of size 3x3]"
      ]
     },
     "execution_count": 93,
     "metadata": {},
     "output_type": "execute_result"
    }
   ],
   "source": [
    "# create an identity matrix with lenght of 3\n",
    "I3 = torch.eye(3)\n",
    "I3"
   ]
  },
  {
   "cell_type": "markdown",
   "metadata": {},
   "source": [
    "### Matrix Addition\n",
    "$$ E = A + B $$"
   ]
  },
  {
   "cell_type": "code",
   "execution_count": 96,
   "metadata": {},
   "outputs": [
    {
     "data": {
      "text/plain": [
       "\n",
       " 0.6157 -0.5688 -0.1571\n",
       " 1.2626 -0.8603  1.3070\n",
       "[torch.FloatTensor of size 2x3]"
      ]
     },
     "execution_count": 96,
     "metadata": {},
     "output_type": "execute_result"
    }
   ],
   "source": [
    "E = A + B\n",
    "E"
   ]
  },
  {
   "cell_type": "markdown",
   "metadata": {},
   "source": [
    "### Matrix (Dot) Product\n",
    "If matrix A is a n x m Tensor, matrix B is a m x p Tensor, out will be a n x p Tensor.\n",
    "\n",
    "$$ C = AB $$\n",
    "$$ C_{i,j} = \\sum_{k} A_{i,k}B_{k,j} $$"
   ]
  },
  {
   "cell_type": "code",
   "execution_count": 98,
   "metadata": {},
   "outputs": [
    {
     "data": {
      "text/plain": [
       "\n",
       "-1.8093 -0.5059  3.2282\n",
       "-0.4125 -0.9633  1.2989\n",
       "[torch.FloatTensor of size 2x3]"
      ]
     },
     "execution_count": 98,
     "metadata": {},
     "output_type": "execute_result"
    }
   ],
   "source": [
    "# Matrix (Dot) Product\n",
    "A = torch.randn(2, 3)\n",
    "B = torch.randn(3, 3)\n",
    "C = torch.mm(mat1, mat2)\n",
    "C"
   ]
  },
  {
   "cell_type": "markdown",
   "metadata": {},
   "source": [
    "### Matrix-vector Product\n",
    "Performs a matrix-vector product of the matrix mat and the vector vec.\n",
    "\n",
    "$$ C = vA $$\n",
    "$$ C_{i,j} = \\sum_{k} A_{i,k}v_{k} $$"
   ]
  },
  {
   "cell_type": "code",
   "execution_count": 99,
   "metadata": {},
   "outputs": [
    {
     "data": {
      "text/plain": [
       "\n",
       " 1.2666\n",
       " 0.8673\n",
       "[torch.FloatTensor of size 2]"
      ]
     },
     "execution_count": 99,
     "metadata": {},
     "output_type": "execute_result"
    }
   ],
   "source": [
    "mat = torch.randn(2, 3)\n",
    "vec = torch.randn(3)\n",
    "torch.mv(mat, vec)"
   ]
  },
  {
   "cell_type": "markdown",
   "metadata": {},
   "source": [
    "### Slicing "
   ]
  },
  {
   "cell_type": "code",
   "execution_count": 44,
   "metadata": {},
   "outputs": [
    {
     "data": {
      "text/plain": [
       "\n",
       " 0.8536\n",
       "-0.8088\n",
       "-0.7905\n",
       " 1.6649\n",
       "-0.2254\n",
       "[torch.FloatTensor of size 5]"
      ]
     },
     "execution_count": 44,
     "metadata": {},
     "output_type": "execute_result"
    }
   ],
   "source": [
    "B[:,1] # get second row"
   ]
  },
  {
   "cell_type": "code",
   "execution_count": 50,
   "metadata": {},
   "outputs": [
    {
     "data": {
      "text/plain": [
       "\n",
       " 1.4403\n",
       "-0.7905\n",
       "-0.2565\n",
       "[torch.FloatTensor of size 3]"
      ]
     },
     "execution_count": 50,
     "metadata": {},
     "output_type": "execute_result"
    }
   ],
   "source": [
    "B[2,:] # get third column"
   ]
  },
  {
   "cell_type": "markdown",
   "metadata": {},
   "source": [
    "### Trace\n",
    "$$ Tr(A) = \\sum_{i} A_{i,i} $$"
   ]
  },
  {
   "cell_type": "code",
   "execution_count": 59,
   "metadata": {},
   "outputs": [
    {
     "data": {
      "text/plain": [
       "-1.7913550734519958"
      ]
     },
     "execution_count": 59,
     "metadata": {},
     "output_type": "execute_result"
    }
   ],
   "source": [
    "# Trace Sum_{i} A_{i,i}\n",
    "torch.trace(B)"
   ]
  },
  {
   "cell_type": "markdown",
   "metadata": {},
   "source": [
    "### Matrix Transpose\n",
    "$$ (A^T)_{i,j} = A_{j,i}$$"
   ]
  },
  {
   "cell_type": "code",
   "execution_count": 58,
   "metadata": {},
   "outputs": [
    {
     "data": {
      "text/plain": [
       "\n",
       "-0.7260  0.7709  1.4403  0.6289 -0.1382\n",
       " 0.8536 -0.8088 -0.7905  1.6649 -0.2254\n",
       " 0.1086  0.2285 -0.2565  0.7119 -1.5903\n",
       "[torch.FloatTensor of size 3x5]"
      ]
     },
     "execution_count": 58,
     "metadata": {},
     "output_type": "execute_result"
    }
   ],
   "source": [
    "torch.transpose(B, 0, 1) # for matrix transpose you should always use 0 and 1"
   ]
  },
  {
   "cell_type": "markdown",
   "metadata": {},
   "source": [
    "### Matrix Inversion"
   ]
  },
  {
   "cell_type": "code",
   "execution_count": 79,
   "metadata": {},
   "outputs": [
    {
     "name": "stdout",
     "output_type": "stream",
     "text": [
      "X =  \n",
      " 0.3917  0.7439  0.9247  0.3545\n",
      " 0.7052  0.4397  0.4108  0.2657\n",
      " 0.9407  0.3193  0.3513  0.7634\n",
      " 0.4330  0.9092  0.3423  0.1048\n",
      "[torch.FloatTensor of size 4x4]\n",
      "\n",
      "X_inv =  \n",
      "-0.9226  2.9167 -0.5220 -0.4724\n",
      "-0.1413 -1.4749  0.3301  1.8129\n",
      " 1.3689  1.3265 -0.8989 -1.4458\n",
      " 0.5659 -3.5877  2.2289  0.4893\n",
      "[torch.FloatTensor of size 4x4]\n",
      "\n",
      "X.X_inv =  \n",
      " 1.0000  0.0000  0.0000 -0.0000\n",
      " 0.0000  1.0000  0.0000 -0.0000\n",
      " 0.0000  0.0000  1.0000 -0.0000\n",
      " 0.0000  0.0000  0.0000  1.0000\n",
      "[torch.FloatTensor of size 4x4]\n",
      "\n"
     ]
    }
   ],
   "source": [
    "X = torch.rand(4, 4)\n",
    "print ('X = ',X)\n",
    "X_inv = torch.inverse(X)\n",
    "print ('X_inv = ',X_inv)\n",
    "\n",
    "print ('X.X_inv = ', torch.mm(X, X_inv))"
   ]
  },
  {
   "cell_type": "markdown",
   "metadata": {},
   "source": [
    "### Special Matrices"
   ]
  },
  {
   "cell_type": "markdown",
   "metadata": {},
   "source": [
    "**Symmetric Matrix**\n",
    "$$ A = A^T $$"
   ]
  },
  {
   "cell_type": "code",
   "execution_count": 67,
   "metadata": {},
   "outputs": [
    {
     "name": "stdout",
     "output_type": "stream",
     "text": [
      "A=  \n",
      " 1  2  3\n",
      " 2  4  5\n",
      " 3  5  6\n",
      "[torch.FloatTensor of size 3x3]\n",
      "\n",
      "AT=  \n",
      " 1  2  3\n",
      " 2  4  5\n",
      " 3  5  6\n",
      "[torch.FloatTensor of size 3x3]\n",
      "\n"
     ]
    }
   ],
   "source": [
    "A = torch.Tensor([[1, 2,  3],\n",
    "                  [2, 4,  5],\n",
    "                  [3,  5, 6]]).t()\n",
    "print ('A= ', A)\n",
    "AT = torch.transpose(A, 0, 1)\n",
    "print ('AT= ',AT)"
   ]
  },
  {
   "cell_type": "markdown",
   "metadata": {},
   "source": [
    "**Orthogonal matrix**\n",
    "$$ A^T A = A A^T = I $$\n",
    "$$ A^{-1} = A^{T} $$"
   ]
  },
  {
   "cell_type": "code",
   "execution_count": 69,
   "metadata": {},
   "outputs": [
    {
     "name": "stdout",
     "output_type": "stream",
     "text": [
      "A=  \n",
      " 0.0000  0.8000  0.6000\n",
      "-0.8000 -0.3600  0.4800\n",
      "-0.6000  0.4800 -0.6400\n",
      "[torch.FloatTensor of size 3x3]\n",
      "\n",
      "AT.A =  \n",
      " 1.0000  0.0000  0.0000\n",
      " 0.0000  1.0000  0.0000\n",
      " 0.0000  0.0000  1.0000\n",
      "[torch.FloatTensor of size 3x3]\n",
      "\n"
     ]
    }
   ],
   "source": [
    "A = torch.Tensor([[0, -0.8,  -0.6],\n",
    "                  [0.8, -0.36,  0.48],\n",
    "                  [0.6,  0.48, -0.64]]).t()\n",
    "print ('A= ', A)\n",
    "AT = torch.transpose(A, 0, 1)\n",
    "print ('AT.A = ',torch.mm(AT,A))"
   ]
  },
  {
   "cell_type": "markdown",
   "metadata": {},
   "source": [
    "### Systems of Equations\n",
    "$$ Ax = b $$\n",
    "X, LU = torch.gesv(B, A) returns the solution to the system of linear equations represented by AX=BAX=B\n",
    "LU contains L and U factors for LU factorization of A."
   ]
  },
  {
   "cell_type": "code",
   "execution_count": 102,
   "metadata": {
    "scrolled": true
   },
   "outputs": [
    {
     "name": "stdout",
     "output_type": "stream",
     "text": [
      "X =  \n",
      "-0.8007 -0.3896  0.9555\n",
      "-0.6952 -0.5544  0.2207\n",
      " 0.5939  0.8422  1.9006\n",
      " 1.3217 -0.1038  5.3577\n",
      " 0.5658  0.1057  4.0406\n",
      "[torch.FloatTensor of size 5x3]\n",
      "\n",
      "LU =  \n",
      "  8.2300   1.0800   9.0400   2.1400  -6.8700\n",
      "  0.8262  -6.9423  -7.9193   6.5518  -3.9937\n",
      "  0.6877  -0.6651 -14.1840   7.2358  -5.1915\n",
      "  0.7254   0.7524   0.0232 -13.8198  14.1888\n",
      " -0.2564   0.4355  -0.5884  -0.3374  -3.4292\n",
      "[torch.FloatTensor of size 5x5]\n",
      "\n"
     ]
    },
    {
     "data": {
      "text/plain": [
       "9.457437262677527e-06"
      ]
     },
     "execution_count": 102,
     "metadata": {},
     "output_type": "execute_result"
    }
   ],
   "source": [
    "A = torch.Tensor([[6.80, -2.11,  5.66,  5.97,  8.23],\n",
    "                  [-6.05, -3.30,  5.36, -4.44,  1.08],\n",
    "                  [-0.45,  2.58, -2.70,  0.27,  9.04],\n",
    "                  [8.32,  2.71,  4.35,  -7.17,  2.14],\n",
    "                  [-9.67, -5.14, -7.26,  6.08, -6.87]]).t()\n",
    "B = torch.Tensor([[4.02,  6.19, -8.22, -7.57, -3.03],\n",
    "                  [-1.56,  4.00, -8.67,  1.75,  2.86],\n",
    "                  [9.81, -4.09, -4.57, -8.61,  8.99]]).t()\n",
    "X, LU = torch.gesv(B, A)\n",
    "\n",
    "print ('X = ',X)\n",
    "print ('LU = ', LU)\n",
    "torch.dist(B, torch.mm(A, X)) # Checking accuracy\n"
   ]
  },
  {
   "cell_type": "markdown",
   "metadata": {},
   "source": [
    "### Norm \n",
    "Functions that measure how “large” a vector is, similar to a distance between zero and the point represented by the vector\n",
    "$$ L^{p} - Norm $$ "
   ]
  },
  {
   "cell_type": "code",
   "execution_count": 112,
   "metadata": {},
   "outputs": [
    {
     "name": "stdout",
     "output_type": "stream",
     "text": [
      "L1 norm =  123.749999374\n",
      "L2 norm =  28.0610742907\n",
      "L3 norm =  17.7363717639\n",
      "Max norm =  9.67000007629\n"
     ]
    }
   ],
   "source": [
    "# L2 norm \n",
    "l2_norm = torch.norm(A) \n",
    "\n",
    "# L3 norm\n",
    "l3_norm = torch.norm(A,3)\n",
    "\n",
    "# L1 norm \n",
    "l1_norm = torch.norm(A, 1)\n",
    "\n",
    "# max norm\n",
    "max_norm = torch.max(torch.abs(A))\n",
    "\n",
    "print ('L1 norm = ', l1_norm)\n",
    "print ('L2 norm = ', l2_norm)\n",
    "print ('L3 norm = ', l3_norm)\n",
    "print ('Max norm = ', max_norm)\n",
    "# Max norm  "
   ]
  },
  {
   "cell_type": "markdown",
   "metadata": {},
   "source": [
    "### Eigendecomposition\n",
    "Computing the eigenvalues and eigenvectors of a real square matrix."
   ]
  },
  {
   "cell_type": "code",
   "execution_count": 114,
   "metadata": {},
   "outputs": [
    {
     "name": "stdout",
     "output_type": "stream",
     "text": [
      "eigenvector =  \n",
      " 7.8266  0.0000\n",
      "-3.2407  9.6876\n",
      "-3.2407 -9.6876\n",
      "-9.7738  0.0000\n",
      "-4.8114  0.0000\n",
      "[torch.FloatTensor of size 5x2]\n",
      "\n",
      "eigenvalue =  \n",
      "-0.6506 -0.0173  0.3863 -0.4833 -0.1003\n",
      " 0.1991 -0.0695  0.2021 -0.6204  0.1307\n",
      "-0.1199  0.2167  0.3939  0.4785 -0.0045\n",
      "-0.5226  0.2855 -0.3181  0.3591  0.8385\n",
      "-0.4996  0.6480  0.0000 -0.1535  0.5194\n",
      "[torch.FloatTensor of size 5x5]\n",
      "\n"
     ]
    }
   ],
   "source": [
    "## Eigenvector and eigenvalue\n",
    "eigenvector, eigenvalue = torch.eig(A, True) \n",
    "print('eigenvector = ', eigenvector)\n",
    "print('eigenvalue = ', eigenvalue)"
   ]
  },
  {
   "cell_type": "markdown",
   "metadata": {},
   "source": [
    "### Singular Value Decomposition\n",
    "$$ A = UDV^{T} $$"
   ]
  },
  {
   "cell_type": "code",
   "execution_count": 124,
   "metadata": {},
   "outputs": [
    {
     "name": "stdout",
     "output_type": "stream",
     "text": [
      "\n",
      "-0.5911  0.2632  0.3554  0.3143  0.2299\n",
      "-0.3976  0.2438 -0.2224 -0.7535 -0.3636\n",
      "-0.0335 -0.6003 -0.4508  0.2334 -0.3055\n",
      "-0.4297  0.2362 -0.6859  0.3319  0.1649\n",
      "-0.4697 -0.3509  0.3874  0.1587 -0.5183\n",
      " 0.2934  0.5763 -0.0209  0.3791 -0.6526\n",
      "[torch.FloatTensor of size 6x5]\n",
      " \n",
      " 27.4687\n",
      " 22.6432\n",
      "  8.5584\n",
      "  5.9857\n",
      "  2.0149\n",
      "[torch.FloatTensor of size 5]\n",
      " \n",
      "-0.2514  0.8148 -0.2606  0.3967 -0.2180\n",
      "-0.3968  0.3587  0.7008 -0.4507  0.1402\n",
      "-0.6922 -0.2489 -0.2208  0.2513  0.5891\n",
      "-0.3662 -0.3686  0.3859  0.4342 -0.6265\n",
      "-0.4076 -0.0980 -0.4933 -0.6227 -0.4396\n",
      "[torch.FloatTensor of size 5x5]\n",
      "\n",
      "1.03819075292e-05\n"
     ]
    }
   ],
   "source": [
    "a = torch.Tensor([[8.79,  6.11, -9.15,  9.57, -3.49,  9.84],\n",
    "                  [9.93,  6.91, -7.93,  1.64,  4.02,  0.15],\n",
    "                  [9.83,  5.04,  4.86,  8.83,  9.80, -8.99],\n",
    "                  [5.45, -0.27,  4.85,  0.74, 10.00, -6.02],\n",
    "                  [3.16,  7.98,  3.01,  5.80,  4.27, -5.31]]).t()\n",
    "u, s, v = torch.svd(a)\n",
    "print(u,s,v)\n",
    "\n",
    "# accuracy\n",
    "print(torch.dist(a, torch.mm(torch.mm(u, torch.diag(s)), v.t())))"
   ]
  }
 ],
 "metadata": {
  "anaconda-cloud": {},
  "kernelspec": {
   "display_name": "Python 3",
   "language": "python",
   "name": "python3"
  },
  "language_info": {
   "codemirror_mode": {
    "name": "ipython",
    "version": 3
   },
   "file_extension": ".py",
   "mimetype": "text/x-python",
   "name": "python",
   "nbconvert_exporter": "python",
   "pygments_lexer": "ipython3",
   "version": "3.6.1"
  }
 },
 "nbformat": 4,
 "nbformat_minor": 1
}
